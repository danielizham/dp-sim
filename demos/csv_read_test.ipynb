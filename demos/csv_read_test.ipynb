{
 "cells": [
  {
   "cell_type": "code",
   "execution_count": 1,
   "id": "11e09fd3",
   "metadata": {},
   "outputs": [],
   "source": [
    "import csv\n",
    "import numpy as np"
   ]
  },
  {
   "cell_type": "code",
   "execution_count": 3,
   "id": "a62ef9ef",
   "metadata": {},
   "outputs": [],
   "source": [
    "header = [\"target\", \"cell\"]\n",
    "positions = [\n",
    "    [1, 19],\n",
    "    [2, 19],\n",
    "    [3, 19],\n",
    "    [4, 19],\n",
    "    [5, 24],\n",
    "    [6, 24],\n",
    "    [7, 25],\n",
    "    [8, 20],\n",
    "    [9, 20],\n",
    "    [10, 20],\n",
    "]"
   ]
  },
  {
   "cell_type": "code",
   "execution_count": 5,
   "id": "6248fb23",
   "metadata": {},
   "outputs": [],
   "source": [
    "file = open('target_positions.csv', 'w', encoding='UTF8', newline='')\n",
    "writer = csv.writer(file)"
   ]
  },
  {
   "cell_type": "code",
   "execution_count": 6,
   "id": "4ceb6646",
   "metadata": {},
   "outputs": [],
   "source": [
    "writer.writerow(header)\n",
    "for row in positions:\n",
    "    writer.writerow(row)"
   ]
  },
  {
   "cell_type": "code",
   "execution_count": 7,
   "id": "b345ae88",
   "metadata": {},
   "outputs": [],
   "source": [
    "file.close()"
   ]
  },
  {
   "cell_type": "code",
   "execution_count": 2,
   "id": "ee67aabf",
   "metadata": {},
   "outputs": [],
   "source": [
    "positions = np.genfromtxt('target_positions.csv', delimiter=',', skip_header=1, dtype=np.uint8)"
   ]
  },
  {
   "cell_type": "code",
   "execution_count": 3,
   "id": "e2a78fee",
   "metadata": {},
   "outputs": [
    {
     "data": {
      "text/plain": [
       "array([[ 1, 19],\n",
       "       [ 2, 19],\n",
       "       [ 3, 19],\n",
       "       [ 4, 19],\n",
       "       [ 5, 24],\n",
       "       [ 6, 24],\n",
       "       [ 7, 25],\n",
       "       [ 8, 20],\n",
       "       [ 9, 20],\n",
       "       [10, 20]], dtype=uint8)"
      ]
     },
     "execution_count": 3,
     "metadata": {},
     "output_type": "execute_result"
    }
   ],
   "source": [
    "positions"
   ]
  },
  {
   "cell_type": "code",
   "execution_count": 4,
   "id": "b75788e0",
   "metadata": {},
   "outputs": [],
   "source": [
    "num_targets = 10\n",
    "detected_targets = np.zeros(num_targets, dtype=bool)"
   ]
  },
  {
   "cell_type": "code",
   "execution_count": 24,
   "id": "1f945934",
   "metadata": {},
   "outputs": [
    {
     "data": {
      "text/plain": [
       "dtype('bool')"
      ]
     },
     "execution_count": 24,
     "metadata": {},
     "output_type": "execute_result"
    }
   ],
   "source": [
    "detected_targets.dtype"
   ]
  },
  {
   "cell_type": "code",
   "execution_count": 22,
   "id": "f5c66500",
   "metadata": {},
   "outputs": [],
   "source": [
    "cell_id = 19\n",
    "found = positions[:,1] == cell_id"
   ]
  },
  {
   "cell_type": "code",
   "execution_count": 5,
   "id": "9f8cebfa",
   "metadata": {},
   "outputs": [
    {
     "ename": "SyntaxError",
     "evalue": "invalid syntax (3574148249.py, line 1)",
     "output_type": "error",
     "traceback": [
      "\u001b[0;36m  Input \u001b[0;32mIn [5]\u001b[0;36m\u001b[0m\n\u001b[0;31m    ret = assert found.size == num_targets\u001b[0m\n\u001b[0m          ^\u001b[0m\n\u001b[0;31mSyntaxError\u001b[0m\u001b[0;31m:\u001b[0m invalid syntax\n"
     ]
    }
   ],
   "source": [
    "ret = assert found.size == num_targets"
   ]
  },
  {
   "cell_type": "code",
   "execution_count": null,
   "id": "a0980740",
   "metadata": {},
   "outputs": [],
   "source": []
  },
  {
   "cell_type": "code",
   "execution_count": 25,
   "id": "90c6744c",
   "metadata": {},
   "outputs": [
    {
     "data": {
      "text/plain": [
       "dtype('bool')"
      ]
     },
     "execution_count": 25,
     "metadata": {},
     "output_type": "execute_result"
    }
   ],
   "source": [
    "found.dtype"
   ]
  },
  {
   "cell_type": "code",
   "execution_count": 37,
   "id": "735872c9",
   "metadata": {},
   "outputs": [],
   "source": [
    "is_training = True\n",
    "if not is_training:\n",
    "    print(\"yes\")"
   ]
  },
  {
   "cell_type": "code",
   "execution_count": null,
   "id": "4088f128",
   "metadata": {},
   "outputs": [],
   "source": []
  }
 ],
 "metadata": {
  "kernelspec": {
   "display_name": "Python 3 (ipykernel)",
   "language": "python",
   "name": "python3"
  },
  "language_info": {
   "codemirror_mode": {
    "name": "ipython",
    "version": 3
   },
   "file_extension": ".py",
   "mimetype": "text/x-python",
   "name": "python",
   "nbconvert_exporter": "python",
   "pygments_lexer": "ipython3",
   "version": "3.8.12"
  }
 },
 "nbformat": 4,
 "nbformat_minor": 5
}
