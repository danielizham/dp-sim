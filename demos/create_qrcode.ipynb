{
 "cells": [
  {
   "cell_type": "code",
   "execution_count": 1,
   "id": "be18013c",
   "metadata": {},
   "outputs": [],
   "source": [
    "import qrcode\n",
    "import qrcode.image.svg"
   ]
  },
  {
   "cell_type": "code",
   "execution_count": 2,
   "id": "6f6b007b",
   "metadata": {},
   "outputs": [],
   "source": [
    "datas = [\"1\", \"2\", \"3\", \"4\", \"5\", \"6\", \"7\", \"8\", \"9\", \"10\"]\n",
    "\n",
    "for data in datas:\n",
    "    qr = qrcode.QRCode(\n",
    "    #     image_factory=qrcode.image.svg.SvgPathImage,\n",
    "        image_factory=qrcode.image.svg.SvgPathFillImage,\n",
    "        error_correction=qrcode.constants.ERROR_CORRECT_Q,\n",
    "    )\n",
    "    qr.add_data(data)\n",
    "    qr.make(fit=True)\n",
    "    qr.make_image().save(\"./final/qr_\" + data + \".svg\")"
   ]
  },
  {
   "cell_type": "code",
   "execution_count": 17,
   "id": "1e2d4657",
   "metadata": {},
   "outputs": [
    {
     "ename": "TypeError",
     "evalue": "__init__() got an unexpected keyword argument 'fill_color'",
     "output_type": "error",
     "traceback": [
      "\u001b[0;31m---------------------------------------------------------------------------\u001b[0m",
      "\u001b[0;31mTypeError\u001b[0m                                 Traceback (most recent call last)",
      "Input \u001b[0;32mIn [17]\u001b[0m, in \u001b[0;36m<module>\u001b[0;34m\u001b[0m\n\u001b[0;32m----> 1\u001b[0m img3 \u001b[38;5;241m=\u001b[39m \u001b[43mqrcode\u001b[49m\u001b[38;5;241;43m.\u001b[39;49m\u001b[43mmake\u001b[49m\u001b[43m(\u001b[49m\n\u001b[1;32m      2\u001b[0m \u001b[43m    \u001b[49m\u001b[38;5;124;43m'\u001b[39;49m\u001b[38;5;124;43mdata hey data\u001b[39;49m\u001b[38;5;124;43m'\u001b[39;49m\u001b[43m,\u001b[49m\u001b[43m \u001b[49m\n\u001b[1;32m      3\u001b[0m \u001b[43m    \u001b[49m\u001b[43mimage_factory\u001b[49m\u001b[38;5;241;43m=\u001b[39;49m\u001b[43mqrcode\u001b[49m\u001b[38;5;241;43m.\u001b[39;49m\u001b[43mimage\u001b[49m\u001b[38;5;241;43m.\u001b[39;49m\u001b[43msvg\u001b[49m\u001b[38;5;241;43m.\u001b[39;49m\u001b[43mSvgPathImage\u001b[49m\u001b[43m,\u001b[49m\n\u001b[1;32m      4\u001b[0m \u001b[43m    \u001b[49m\u001b[43merror_correction\u001b[49m\u001b[38;5;241;43m=\u001b[39;49m\u001b[43mqrcode\u001b[49m\u001b[38;5;241;43m.\u001b[39;49m\u001b[43mconstants\u001b[49m\u001b[38;5;241;43m.\u001b[39;49m\u001b[43mERROR_CORRECT_Q\u001b[49m\u001b[43m,\u001b[49m\n\u001b[1;32m      5\u001b[0m \u001b[43m    \u001b[49m\u001b[43mfill_color\u001b[49m\u001b[38;5;241;43m=\u001b[39;49m\u001b[38;5;124;43m\"\u001b[39;49m\u001b[38;5;124;43mblue\u001b[39;49m\u001b[38;5;124;43m\"\u001b[39;49m\n\u001b[1;32m      6\u001b[0m \u001b[43m)\u001b[49m\n\u001b[1;32m      7\u001b[0m img3\u001b[38;5;241m.\u001b[39msave(\u001b[38;5;124m\"\u001b[39m\u001b[38;5;124msome.svg\u001b[39m\u001b[38;5;124m\"\u001b[39m)\n",
      "File \u001b[0;32m~/.pyenv/versions/3.8.12/envs/dp-sim/lib/python3.8/site-packages/qrcode/main.py:11\u001b[0m, in \u001b[0;36mmake\u001b[0;34m(data, **kwargs)\u001b[0m\n\u001b[1;32m     10\u001b[0m \u001b[38;5;28;01mdef\u001b[39;00m \u001b[38;5;21mmake\u001b[39m(data\u001b[38;5;241m=\u001b[39m\u001b[38;5;28;01mNone\u001b[39;00m, \u001b[38;5;241m*\u001b[39m\u001b[38;5;241m*\u001b[39mkwargs):\n\u001b[0;32m---> 11\u001b[0m     qr \u001b[38;5;241m=\u001b[39m \u001b[43mQRCode\u001b[49m\u001b[43m(\u001b[49m\u001b[38;5;241;43m*\u001b[39;49m\u001b[38;5;241;43m*\u001b[39;49m\u001b[43mkwargs\u001b[49m\u001b[43m)\u001b[49m\n\u001b[1;32m     12\u001b[0m     qr\u001b[38;5;241m.\u001b[39madd_data(data)\n\u001b[1;32m     13\u001b[0m     \u001b[38;5;28;01mreturn\u001b[39;00m qr\u001b[38;5;241m.\u001b[39mmake_image()\n",
      "\u001b[0;31mTypeError\u001b[0m: __init__() got an unexpected keyword argument 'fill_color'"
     ]
    }
   ],
   "source": [
    "img3 = qrcode.make(\n",
    "    'data hey data', \n",
    "    image_factory=qrcode.image.svg.SvgPathImage,\n",
    "    error_correction=qrcode.constants.ERROR_CORRECT_Q,\n",
    ")\n",
    "img3.save(\"some.svg\")"
   ]
  },
  {
   "cell_type": "code",
   "execution_count": null,
   "id": "52ce0179",
   "metadata": {},
   "outputs": [],
   "source": []
  }
 ],
 "metadata": {
  "kernelspec": {
   "display_name": "Python 3 (ipykernel)",
   "language": "python",
   "name": "python3"
  },
  "language_info": {
   "codemirror_mode": {
    "name": "ipython",
    "version": 3
   },
   "file_extension": ".py",
   "mimetype": "text/x-python",
   "name": "python",
   "nbconvert_exporter": "python",
   "pygments_lexer": "ipython3",
   "version": "3.8.12"
  }
 },
 "nbformat": 4,
 "nbformat_minor": 5
}
