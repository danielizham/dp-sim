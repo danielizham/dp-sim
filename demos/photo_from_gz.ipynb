{
 "cells": [
  {
   "cell_type": "code",
   "execution_count": 11,
   "id": "1019ff54",
   "metadata": {},
   "outputs": [],
   "source": [
    "import re"
   ]
  },
  {
   "cell_type": "code",
   "execution_count": null,
   "id": "e024bf84",
   "metadata": {},
   "outputs": [],
   "source": [
    "ON_POSIX = 'posix' in sys.builtin_module_names\n",
    "cmd = \"cat ../camera-log.txt | grep data\"\n",
    "p = Popen(cmd, stdout=PIPE, bufsize=1, close_fds=ON_POSIX, shell=True)"
   ]
  },
  {
   "cell_type": "code",
   "execution_count": null,
   "id": "c7dfacfe",
   "metadata": {},
   "outputs": [],
   "source": [
    "maxi = 1\n",
    "i = 0\n",
    "for line in iter(p.stdout.readline, b''):\n",
    "    line = str(line)\n",
    "    print(line)\n",
    "    if i > maxi:\n",
    "        break\n",
    "    i += 1\n",
    "\n",
    "#     if \"x:\" in line:\n",
    "#         x = re.findall(r\"[-+]?\\d*\\.\\d+|\\d+\", line)[0]\n",
    "#         self.agent_coord[0] = float(x)\n",
    "#     elif \"y:\" in line:\n",
    "#         y = re.findall(r\"[-+]?\\d*\\.\\d+|\\d+\", line)[0]\n",
    "#         self.agent_coord[1] = float(y)\n",
    "#     elif \"z:\" in line:\n",
    "#         z = re.findall(r\"[-+]?\\d*\\.\\d+|\\d+\", line)[0]\n",
    "#         self.agent_coord[2] = float(z)"
   ]
  },
  {
   "cell_type": "code",
   "execution_count": null,
   "id": "c02a1ae1",
   "metadata": {},
   "outputs": [],
   "source": [
    "file = open(\"../camera-log.txt\")"
   ]
  },
  {
   "cell_type": "code",
   "execution_count": null,
   "id": "318bb566",
   "metadata": {},
   "outputs": [],
   "source": [
    "with open('../camera-log.txt') as f:\n",
    "    lines = f.readlines()"
   ]
  },
  {
   "cell_type": "code",
   "execution_count": null,
   "id": "8fe75900",
   "metadata": {},
   "outputs": [],
   "source": [
    "dataline = lines[9]"
   ]
  },
  {
   "cell_type": "code",
   "execution_count": null,
   "id": "add0080f",
   "metadata": {},
   "outputs": [],
   "source": [
    "dataline"
   ]
  },
  {
   "cell_type": "code",
   "execution_count": null,
   "id": "8ded129e",
   "metadata": {},
   "outputs": [],
   "source": [
    "re.findall(r'\"([^\"]*)\"', dataline)[0].encode().decode('unicode_escape')"
   ]
  },
  {
   "cell_type": "code",
   "execution_count": 1,
   "id": "4430a9c3",
   "metadata": {},
   "outputs": [],
   "source": [
    "file = open(\"../photo-byte\", \"r\")"
   ]
  },
  {
   "cell_type": "code",
   "execution_count": 2,
   "id": "7bf1d75d",
   "metadata": {},
   "outputs": [],
   "source": [
    "imgbytes = file.read()"
   ]
  },
  {
   "cell_type": "code",
   "execution_count": 6,
   "id": "8abc947c",
   "metadata": {},
   "outputs": [],
   "source": [
    "imglist = imgbytes.split(\"\\\\\")"
   ]
  },
  {
   "cell_type": "code",
   "execution_count": 7,
   "id": "05685b3e",
   "metadata": {},
   "outputs": [
    {
     "data": {
      "text/plain": [
       "227825"
      ]
     },
     "execution_count": 7,
     "metadata": {},
     "output_type": "execute_result"
    }
   ],
   "source": [
    "len(imglist)"
   ]
  },
  {
   "cell_type": "code",
   "execution_count": 19,
   "id": "66bd8a3f",
   "metadata": {},
   "outputs": [
    {
     "name": "stdout",
     "output_type": "stream",
     "text": [
      "356fj\n",
      "360f{\n",
      "355_d\n",
      "354Na\n",
      "355Nd\n"
     ]
    }
   ],
   "source": [
    "maxcount = 5\n",
    "count = 0\n",
    "for b in imglist:\n",
    "    if re.search('[a-f]', b):\n",
    "        print(b)\n",
    "        count += 1\n",
    "        if count == maxcount:\n",
    "            break"
   ]
  },
  {
   "cell_type": "code",
   "execution_count": 16,
   "id": "da88905c",
   "metadata": {},
   "outputs": [],
   "source": [
    "if re.search('[2]', imglist[1]):\n",
    "    print(\"True\")"
   ]
  },
  {
   "cell_type": "code",
   "execution_count": 9,
   "id": "dd32cb3f",
   "metadata": {},
   "outputs": [
    {
     "data": {
      "text/plain": [
       "'377'"
      ]
     },
     "execution_count": 9,
     "metadata": {},
     "output_type": "execute_result"
    }
   ],
   "source": [
    "imglist[1]"
   ]
  },
  {
   "cell_type": "code",
   "execution_count": null,
   "id": "77b7e5e0",
   "metadata": {},
   "outputs": [],
   "source": [
    "import io"
   ]
  },
  {
   "cell_type": "code",
   "execution_count": null,
   "id": "35ab63f7",
   "metadata": {},
   "outputs": [],
   "source": [
    "photo_infile = io.BytesIO(totstr)\n",
    "photo_image = Image.open(photo_infile)"
   ]
  }
 ],
 "metadata": {
  "kernelspec": {
   "display_name": "Python 3 (ipykernel)",
   "language": "python",
   "name": "python3"
  },
  "language_info": {
   "codemirror_mode": {
    "name": "ipython",
    "version": 3
   },
   "file_extension": ".py",
   "mimetype": "text/x-python",
   "name": "python",
   "nbconvert_exporter": "python",
   "pygments_lexer": "ipython3",
   "version": "3.8.12"
  }
 },
 "nbformat": 4,
 "nbformat_minor": 5
}
